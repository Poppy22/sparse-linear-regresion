{
 "cells": [
  {
   "cell_type": "code",
   "execution_count": 23,
   "id": "d3b539fd",
   "metadata": {},
   "outputs": [],
   "source": [
    "import pandas as pd\n",
    "import matplotlib.pyplot as plt\n",
    "from sklearn.linear_model import Lasso\n",
    "from sklearn.model_selection import train_test_split "
   ]
  },
  {
   "cell_type": "code",
   "execution_count": 46,
   "id": "a1932237",
   "metadata": {},
   "outputs": [
    {
     "name": "stdout",
     "output_type": "stream",
     "text": [
      "(506, 14)\n",
      "        0     1     2   3      4      5     6       7   8      9     10  \\\n",
      "0  0.00632  18.0  2.31   0  0.538  6.575  65.2  4.0900   1  296.0  15.3   \n",
      "1  0.02731   0.0  7.07   0  0.469  6.421  78.9  4.9671   2  242.0  17.8   \n",
      "2  0.02729   0.0  7.07   0  0.469  7.185  61.1  4.9671   2  242.0  17.8   \n",
      "3  0.03237   0.0  2.18   0  0.458  6.998  45.8  6.0622   3  222.0  18.7   \n",
      "4  0.06905   0.0  2.18   0  0.458  7.147  54.2  6.0622   3  222.0  18.7   \n",
      "\n",
      "       11    12    13  \n",
      "0  396.90  4.98  24.0  \n",
      "1  396.90  9.14  21.6  \n",
      "2  392.83  4.03  34.7  \n",
      "3  394.63  2.94  33.4  \n",
      "4  396.90  5.33  36.2  \n"
     ]
    }
   ],
   "source": [
    "url = 'https://raw.githubusercontent.com/jbrownlee/Datasets/master/housing.csv'\n",
    "dataframe = read_csv(url, header=None)\n",
    "print(dataframe.shape)\n",
    "print(dataframe.head())"
   ]
  },
  {
   "cell_type": "code",
   "execution_count": 54,
   "id": "2c24be59",
   "metadata": {},
   "outputs": [],
   "source": [
    "data = dataframe.values\n",
    "X, y = data[:, :-1], data[:, -1]\n",
    "\n",
    "model = Lasso(alpha=1.0)\n",
    "X_train, X_test, y_train, y_test = train_test_split(X, y, test_size = 0.25)"
   ]
  },
  {
   "cell_type": "code",
   "execution_count": 55,
   "id": "cfef577b",
   "metadata": {},
   "outputs": [
    {
     "name": "stdout",
     "output_type": "stream",
     "text": [
      "0.6576068288727012\n"
     ]
    }
   ],
   "source": [
    "model.fit(X_train, y_train)\n",
    "print(model.score(X_test, y_test))"
   ]
  },
  {
   "cell_type": "code",
   "execution_count": 58,
   "id": "5c399b84",
   "metadata": {},
   "outputs": [
    {
     "data": {
      "image/png": "[encoded data removed]",
      "text/plain": [
       "<Figure size 432x288 with 1 Axes>"
      ]
     },
     "metadata": {
      "needs_background": "light"
     },
     "output_type": "display_data"
    }
   ],
   "source": [
    "plt.scatter(X_test[:, 1], y_test, color ='b')\n",
    "plt.scatter(X_test[:, 1], y_pred, color ='y')\n",
    "\n",
    "plt.show()"
   ]
  },
  {
   "cell_type": "markdown",
   "id": "51ac4b74",
   "metadata": {},
   "source": [
    "## Finding used features"
   ]
  },
  {
   "cell_type": "code",
   "execution_count": 43,
   "id": "0d4474bf",
   "metadata": {},
   "outputs": [
    {
     "name": "stdout",
     "output_type": "stream",
     "text": [
      "['bmi', 's5']\n"
     ]
    }
   ],
   "source": [
    "import numpy as np\n",
    "from sklearn.datasets import load_diabetes\n",
    "from sklearn.linear_model import Lasso\n",
    "from sklearn.model_selection import train_test_split\n",
    "\n",
    "diabetes = load_diabetes()\n",
    "X_train, X_test, y_train, y_test = train_test_split(diabetes['data'], diabetes['target'], random_state=263)\n",
    "lasso = Lasso().fit(X_train, y_train)\n",
    "\n",
    "print([names[i] for i in range(len(names)) if lasso.coef_[i] != 0])"
   ]
  },
  {
   "cell_type": "markdown",
   "id": "7ac87649",
   "metadata": {},
   "source": [
    "## Central model for argmaxk"
   ]
  },
  {
   "cell_type": "code",
   "execution_count": 66,
   "id": "4bb3a821",
   "metadata": {},
   "outputs": [],
   "source": [
    "x, y = data[: - 1], data[-1]\n",
    "x = np.array(x)"
   ]
  },
  {
   "cell_type": "code",
   "execution_count": 70,
   "id": "2108a7d0",
   "metadata": {},
   "outputs": [
    {
     "name": "stdout",
     "output_type": "stream",
     "text": [
      "[1.82839551e+03 5.75000000e+03 5.62328000e+03 3.50000000e+01\n",
      " 2.80102700e+02 3.17399500e+03 3.46181000e+04 1.91778660e+03\n",
      " 4.83100000e+03 2.06295000e+05 9.31750000e+03 1.80080160e+05\n",
      " 6.39457000e+03 1.13897000e+04]\n"
     ]
    }
   ],
   "source": [
    "x_sum = x.sum(axis=0)\n",
    "print(x_sum)"
   ]
  },
  {
   "cell_type": "code",
   "execution_count": 73,
   "id": "49a5c71c",
   "metadata": {},
   "outputs": [],
   "source": [
    "k = 3\n",
    "d = x.shape[1]\n",
    "\n",
    "max_val = x_sum.max()\n",
    "index_zeroed = []\n",
    "for i in range(d - k):\n",
    "    index = x_sum.argmin()\n",
    "    index_zeroed.append(index)\n",
    "    x_sum[index] = max_val # to avoid being found as min in the next interation\n",
    "    \n",
    "for i in index_zeroed:\n",
    "    x_sum[i] = 0"
   ]
  },
  {
   "cell_type": "code",
   "execution_count": 75,
   "id": "fb823781",
   "metadata": {},
   "outputs": [
    {
     "data": {
      "text/plain": [
       "array([     0.  ,      0.  ,      0.  ,      0.  ,      0.  ,      0.  ,\n",
       "        34618.1 ,      0.  ,      0.  , 206295.  ,      0.  , 180080.16,\n",
       "            0.  ,      0.  ])"
      ]
     },
     "execution_count": 75,
     "metadata": {},
     "output_type": "execute_result"
    }
   ],
   "source": [
    "x_sum # kept the k largest values, and the other were made zero"
   ]
  },
  {
   "cell_type": "code",
   "execution_count": null,
   "id": "ed0fbad5",
   "metadata": {},
   "outputs": [],
   "source": []
  }
 ],
 "metadata": {
  "kernelspec": {
   "display_name": "Python 3",
   "language": "python",
   "name": "python3"
  },
  "language_info": {
   "codemirror_mode": {
    "name": "ipython",
    "version": 3
   },
   "file_extension": ".py",
   "mimetype": "text/x-python",
   "name": "python",
   "nbconvert_exporter": "python",
   "pygments_lexer": "ipython3",
   "version": "3.8.8"
  }
 },
 "nbformat": 4,
 "nbformat_minor": 5
}
