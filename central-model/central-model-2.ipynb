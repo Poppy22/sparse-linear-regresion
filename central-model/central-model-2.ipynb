{
 "cells": [
  {
   "cell_type": "code",
   "execution_count": 1,
   "id": "f665413b-98ef-4d47-a5e0-d7a44d64801d",
   "metadata": {},
   "outputs": [],
   "source": [
    "import numpy as np\n",
    "from numpy import linalg as LA\n",
    "import matplotlib.pyplot as plt"
   ]
  },
  {
   "cell_type": "markdown",
   "id": "5792cc4d-4d79-4229-91c0-461a5d73e9d4",
   "metadata": {},
   "source": [
    "## Algorithm 1 (features + labels private)"
   ]
  },
  {
   "cell_type": "markdown",
   "id": "fccc2908-e4c7-4593-b893-79716db82cf6",
   "metadata": {},
   "source": [
    "<img src=\"../image/alg1_2019.png\" width=\"400\" height=\"200\">"
   ]
  },
  {
   "cell_type": "code",
   "execution_count": 2,
   "id": "a027431a-d0ac-4299-bf1f-76362e3d25f4",
   "metadata": {},
   "outputs": [],
   "source": [
    "def sample_dataset(n, p, c, k):\n",
    "    x = np.random.choice([-1, 1], (n, p))\n",
    "    noise = np.random.uniform(-c, c, n)\n",
    "    \n",
    "    theta_star = np.random.uniform(-1, 1, p)\n",
    "\n",
    "    # make theta_star k-sparse randomly\n",
    "    index = np.random.choice(range(p), k)\n",
    "    for i in index:\n",
    "        theta_star[i] = 0\n",
    "        \n",
    "    y = x @ theta_star + noise\n",
    "    return x, y, theta_star"
   ]
  },
  {
   "cell_type": "code",
   "execution_count": 3,
   "id": "af2f6ff2-6baa-48a1-be62-000746b8424d",
   "metadata": {},
   "outputs": [],
   "source": [
    "def experiment_setup(n, p):\n",
    "    T = int(np.ceil(np.log2(n / p))) # number of iterations, rounded-up\n",
    "    bucket_size = int(np.floor(n / T))\n",
    "    theta_prev = np.zeros(p) # theta_zero\n",
    "\n",
    "    index_set = [] # splitting into buckets\n",
    "    for t in range(T):\n",
    "        start = t * bucket_size\n",
    "        end = (t + 1) * bucket_size - 1\n",
    "        if t == T - 1:\n",
    "            end = n - 1\n",
    "            \n",
    "        index_set.append((start, end))\n",
    "\n",
    "    return T, theta_prev, index_set"
   ]
  },
  {
   "cell_type": "code",
   "execution_count": 4,
   "id": "c2da52d4-fd39-4849-93d9-f73ab0c636eb",
   "metadata": {},
   "outputs": [],
   "source": [
    "T, theta_prev, index_set = experiment_setup(500000, 16)"
   ]
  },
  {
   "cell_type": "code",
   "execution_count": 5,
   "id": "d350193a-2e6e-48f6-a17c-d3c333dd65ff",
   "metadata": {},
   "outputs": [
    {
     "data": {
      "text/plain": [
       "array([0., 0., 0., 0., 0., 0., 0., 0., 0., 0., 0., 0., 0., 0., 0., 0.])"
      ]
     },
     "execution_count": 5,
     "metadata": {},
     "output_type": "execute_result"
    }
   ],
   "source": [
    "theta_prev"
   ]
  },
  {
   "cell_type": "code",
   "execution_count": 6,
   "id": "527ee69e-37d8-4c1f-9d2e-3b69cb5353ab",
   "metadata": {},
   "outputs": [
    {
     "data": {
      "text/plain": [
       "15"
      ]
     },
     "execution_count": 6,
     "metadata": {},
     "output_type": "execute_result"
    }
   ],
   "source": [
    "T"
   ]
  },
  {
   "cell_type": "code",
   "execution_count": 7,
   "id": "12244355-fc13-4230-92e6-eee3d1d086d6",
   "metadata": {},
   "outputs": [
    {
     "data": {
      "text/plain": [
       "[(0, 33332),\n",
       " (33333, 66665),\n",
       " (66666, 99998),\n",
       " (99999, 133331),\n",
       " (133332, 166664),\n",
       " (166665, 199997),\n",
       " (199998, 233330),\n",
       " (233331, 266663),\n",
       " (266664, 299996),\n",
       " (299997, 333329),\n",
       " (333330, 366662),\n",
       " (366663, 399995),\n",
       " (399996, 433328),\n",
       " (433329, 466661),\n",
       " (466662, 499999)]"
      ]
     },
     "execution_count": 7,
     "metadata": {},
     "output_type": "execute_result"
    }
   ],
   "source": [
    "index_set"
   ]
  },
  {
   "cell_type": "code",
   "execution_count": 8,
   "id": "be907b80-423b-45dc-a3b2-20d304ba2e07",
   "metadata": {},
   "outputs": [],
   "source": [
    "def randomizer(x):\n",
    "    return x\n",
    "\n",
    "# TODO - implement randomizer"
   ]
  },
  {
   "cell_type": "code",
   "execution_count": 21,
   "id": "c5a00b4a-18f8-4258-9e8a-be5f7b98f23d",
   "metadata": {},
   "outputs": [],
   "source": [
    "# params: v - vector, k - sparsity\n",
    "# returns an updates vector v which is k-sparse\n",
    "\n",
    "def truncation(v, k):\n",
    "    p = len(v)\n",
    "    v_abs = np.abs(v)\n",
    "    \n",
    "    argmin_k_indices = np.argpartition(v_abs, -(p - k))[:(p - k)]\n",
    "    \n",
    "    for j in argmin_k_indices:\n",
    "            v[j] = 0\n",
    "\n",
    "    return v"
   ]
  },
  {
   "cell_type": "code",
   "execution_count": 22,
   "id": "fe818284-d899-4ed5-823e-5096d4bcf602",
   "metadata": {},
   "outputs": [
    {
     "data": {
      "text/plain": [
       "[-100, 0, 0, 0, 0, 6, 7]"
      ]
     },
     "execution_count": 22,
     "metadata": {},
     "output_type": "execute_result"
    }
   ],
   "source": [
    "truncation([-100, 2, 3, 4, 5, 6, 7], 3)"
   ]
  },
  {
   "cell_type": "code",
   "execution_count": 49,
   "id": "7e854fbe-b0bb-4184-bfed-e40a04f1abf8",
   "metadata": {},
   "outputs": [],
   "source": [
    "def run_experiment(n, p, k=3, eta=0.1, c=0.05, verbose=False):\n",
    "    x, y, theta_star = sample_dataset(n, p, c, k)\n",
    "    T, theta_prev, index_set = experiment_setup(n, p)\n",
    "    \n",
    "    for t in range(T):\n",
    "        if verbose:\n",
    "            print(f'\\n============================== iteration {t} ==================================')\n",
    "        \n",
    "        all_gradients = []\n",
    "        # Line 3: users computes their gradient locally and adds noise (randomizer)\n",
    "        for i in range(index_set[t][0], index_set[t][1] + 1):\n",
    "            nabla_i = x[i].T * (theta_prev @ x[i] - y[i])\n",
    "            nabla_i = randomizer(nabla_i) # currently, identity function\n",
    "            all_gradients.append(nabla_i)\n",
    "\n",
    "        if verbose:\n",
    "            print(\"\\nAll gradients input\")\n",
    "            print(np.array(all_gradients).shape)\n",
    "\n",
    "        # Line 4: aggregate gradients\n",
    "        nabla_prev = np.array(all_gradients).sum(axis=0) / len(all_gradients)\n",
    "        if verbose:\n",
    "            print(\"\\nLine 4. Aggregated gradient\")\n",
    "            print(np.array(nabla_prev).shape)\n",
    "    \n",
    "        # Line 5: perform gradient descend\n",
    "        theta_t = theta_prev - eta * nabla_prev\n",
    "        if verbose:\n",
    "            print(\"\\nLine 5. Gradient descent\")\n",
    "            print(theta_t)\n",
    "    \n",
    "        # Line 6: truncation - make k-sparse\n",
    "        theta_t = truncation(theta_t, k)\n",
    "        if verbose:\n",
    "            print(\"\\nLine 6. Make sparse\")   \n",
    "            print(theta_t)\n",
    "\n",
    "        # Line 7: l2 ball projection\n",
    "        norm_theta_t = LA.norm(theta_t, ord=2)\n",
    "        if norm_theta_t > 1:\n",
    "            theta_t = theta_t / norm_theta_t\n",
    "        if verbose:\n",
    "            print(\"\\nLine 7. L2 projection to ball\")   \n",
    "            print(theta_t)\n",
    "\n",
    "        # update for next iteration\n",
    "        theta_prev = theta_t\n",
    "\n",
    "\n",
    "    # compute error\n",
    "    e = LA.norm(theta_t - theta_star, ord=2) / LA.norm(theta_star, ord=2)\n",
    "    return e"
   ]
  },
  {
   "cell_type": "code",
   "execution_count": 50,
   "id": "1dbf3fae-a3c1-40cd-bbb3-952bddaf9c90",
   "metadata": {},
   "outputs": [],
   "source": [
    "# DEBUG\n",
    "# run_experiment(100, 10, k=5, eta=0.2)"
   ]
  },
  {
   "cell_type": "markdown",
   "id": "c948f60d-69e7-4c0f-856e-8ae9bb39a33d",
   "metadata": {},
   "source": [
    "## Experiment 1 - varying dimensionality (p) - figure 1a"
   ]
  },
  {
   "cell_type": "code",
   "execution_count": 51,
   "id": "dc5e1250-caca-49a4-baed-7107eac0dfe2",
   "metadata": {},
   "outputs": [],
   "source": [
    "n_values = [1, 1.5, 2, 2.5, 3, 3.5, 4, 4.5, 5]\n",
    "p_values = [16, 64, 128, 256]\n",
    "k = 10\n",
    "results = {}"
   ]
  },
  {
   "cell_type": "code",
   "execution_count": 52,
   "id": "7bce938d-0c3e-4c76-87c8-06015c598a4f",
   "metadata": {},
   "outputs": [
    {
     "name": "stdout",
     "output_type": "stream",
     "text": [
      "1 16 0.38723601752813713\n",
      "1 64 0.9050809842085472\n",
      "1 128 0.95846050165755\n",
      "1 256 0.9774195510812158\n",
      "1.5 16 0.3717422986067107\n",
      "1.5 64 0.8970866329522211\n",
      "1.5 128 0.9492076695760602\n",
      "1.5 256 0.9786980734311145\n",
      "2 16 0.3801259671051615\n",
      "2 64 0.9020941932535639\n",
      "2 128 0.9550213668517813\n",
      "2 256 0.977633609196922\n",
      "2.5 16 0.35742566361018846\n",
      "2.5 64 0.8864275598891863\n",
      "2.5 128 0.9526140553616094\n",
      "2.5 256 0.980307424323177\n",
      "3 16 0.35651305406132394\n",
      "3 64 0.9007132664192359\n",
      "3 128 0.9528715265972325\n",
      "3 256 0.9800302400400349\n",
      "3.5 16 0.39952750829726047\n",
      "3.5 64 0.8926175814087423\n",
      "3.5 128 0.9559387681954501\n",
      "3.5 256 0.9761445232426228\n",
      "4 16 0.3896215757769038\n",
      "4 64 0.8990877404872958\n",
      "4 128 0.9549810092317707\n",
      "4 256 0.9759156170141914\n",
      "4.5 16 0.3406188936650457\n",
      "4.5 64 0.8962752545418408\n",
      "4.5 128 0.956213621166599\n",
      "4.5 256 0.9773030303230608\n",
      "5 16 0.4064654952450998\n",
      "5 64 0.8975646471444086\n",
      "5 128 0.9549907229048941\n",
      "5 256 0.9782886276497648\n"
     ]
    }
   ],
   "source": [
    "for n in n_values:\n",
    "    for p in p_values:\n",
    "        errors = []\n",
    "        for i in range(10):\n",
    "            e = run_experiment(int(n * (10 ** 5)), p, k, eta=0.1, c=0.05, verbose=False)\n",
    "            errors.append(e)\n",
    "            \n",
    "        if not p in results:\n",
    "            results[p] = []\n",
    "        results[p].append(np.mean(errors))\n",
    "        print(n, p, np.mean(errors))"
   ]
  },
  {
   "cell_type": "code",
   "execution_count": 53,
   "id": "d10d4bfb-d15b-45a1-8e4f-900fa2e0e105",
   "metadata": {},
   "outputs": [
    {
     "data": {
      "image/png": "[encoded data removed]",
      "text/plain": [
       "<Figure size 640x480 with 1 Axes>"
      ]
     },
     "metadata": {},
     "output_type": "display_data"
    }
   ],
   "source": [
    "colors = [\"darkviolet\", \"gold\", \"dodgerblue\", \"firebrick\"]\n",
    "for i in range(len(p_values)):\n",
    "    p = p_values[i]\n",
    "    plt.plot(n_values, results[p], label=f'p={p}', color=colors[i])\n",
    "\n",
    "plt.legend(loc=1)\n",
    "plt.show()"
   ]
  },
  {
   "cell_type": "markdown",
   "id": "d9d28d95-cfd5-41ea-b67f-2da91ab2f843",
   "metadata": {},
   "source": [
    "## Experiment 2 - varying sparsity level (k) - figure 1b"
   ]
  },
  {
   "cell_type": "code",
   "execution_count": 30,
   "id": "40ae2a9f-4263-4e37-9968-d30cd14a0da1",
   "metadata": {},
   "outputs": [],
   "source": [
    "n_values = [1, 1.5, 2, 2.5, 3, 3.5, 4, 4.5, 5]\n",
    "k_values = [10, 20, 40, 100]\n",
    "p = 64\n",
    "results = {}"
   ]
  },
  {
   "cell_type": "code",
   "execution_count": 31,
   "id": "1f3181d5-5b08-496c-a798-a0bd514078b0",
   "metadata": {},
   "outputs": [
    {
     "name": "stdout",
     "output_type": "stream",
     "text": [
      "1 10 0.8718019222394388\n",
      "1 20 0.7655773553381587\n",
      "1 40 0.6413487287201525\n",
      "1 100 0.34260192264139594\n",
      "1.5 10 0.8606712842509058\n",
      "1.5 20 0.7899654064763003\n",
      "1.5 40 0.6098570809129568\n",
      "1.5 100 0.2803802420511201\n",
      "2 10 0.8684978789934126\n",
      "2 20 0.7386289799767206\n",
      "2 40 0.6904245974414926\n",
      "2 100 0.2805540822338954\n",
      "2.5 10 0.8810301378898991\n",
      "2.5 20 0.7735264755951696\n",
      "2.5 40 0.6458883478197032\n",
      "2.5 100 0.4106476604619845\n",
      "3 10 0.8458191237118771\n",
      "3 20 0.8055264642413986\n",
      "3 40 0.6555346823536433\n",
      "3 100 0.4158726848848608\n",
      "3.5 10 0.8478165926469299\n",
      "3.5 20 0.768909159307574\n",
      "3.5 40 0.6620394002486621\n",
      "3.5 100 0.397878109396738\n",
      "4 10 0.8592565613228673\n",
      "4 20 0.8008009682428152\n",
      "4 40 0.6791289641844817\n",
      "4 100 0.39300259599154785\n",
      "4.5 10 0.8553699360363346\n",
      "4.5 20 0.8037815168287663\n",
      "4.5 40 0.6633047758404658\n",
      "4.5 100 0.3630722382915893\n",
      "5 10 0.8623527372759098\n",
      "5 20 0.7550085812268854\n",
      "5 40 0.6482338975124542\n",
      "5 100 0.4010220091251581\n"
     ]
    }
   ],
   "source": [
    "for n in n_values:\n",
    "    for k in k_values:\n",
    "        min_error = 1.0\n",
    "        for i in range(10):\n",
    "            e = run_experiment(int(n * (10 ** 5)), p, k, eta=0.1, c=0.05, verbose=False)\n",
    "            if e < min_error:\n",
    "                min_error = e\n",
    "            \n",
    "        if not k in results:\n",
    "            results[k] = []\n",
    "        results[k].append(min_error)\n",
    "        print(n, k, min_error)"
   ]
  },
  {
   "cell_type": "code",
   "execution_count": 32,
   "id": "229aac9a-390b-49fc-a143-9519bf104aed",
   "metadata": {},
   "outputs": [
    {
     "data": {
      "image/png": "[encoded data removed]",
      "text/plain": [
       "<Figure size 640x480 with 1 Axes>"
      ]
     },
     "metadata": {},
     "output_type": "display_data"
    }
   ],
   "source": [
    "colors = [\"darkviolet\", \"gold\", \"dodgerblue\", \"firebrick\"]\n",
    "for i in range(len(k_values)):\n",
    "    k = k_values[i]\n",
    "    plt.plot(n_values, results[k], label=f's={k}', color=colors[i])\n",
    "\n",
    "plt.legend(loc=1)\n",
    "plt.show()"
   ]
  },
  {
   "cell_type": "code",
   "execution_count": null,
   "id": "4e8d971c-f528-427a-9112-0489ce2d83b5",
   "metadata": {},
   "outputs": [],
   "source": []
  }
 ],
 "metadata": {
  "kernelspec": {
   "display_name": "Python 3 (ipykernel)",
   "language": "python",
   "name": "python3"
  },
  "language_info": {
   "codemirror_mode": {
    "name": "ipython",
    "version": 3
   },
   "file_extension": ".py",
   "mimetype": "text/x-python",
   "name": "python",
   "nbconvert_exporter": "python",
   "pygments_lexer": "ipython3",
   "version": "3.8.8"
  }
 },
 "nbformat": 4,
 "nbformat_minor": 5
}
