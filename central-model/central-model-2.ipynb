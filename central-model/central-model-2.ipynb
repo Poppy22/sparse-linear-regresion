{
 "cells": [
  {
   "cell_type": "code",
   "execution_count": 1,
   "id": "f665413b-98ef-4d47-a5e0-d7a44d64801d",
   "metadata": {},
   "outputs": [],
   "source": [
    "import numpy as np\n",
    "from numpy import linalg as LA\n",
    "import matplotlib.pyplot as plt"
   ]
  },
  {
   "cell_type": "markdown",
   "id": "5792cc4d-4d79-4229-91c0-461a5d73e9d4",
   "metadata": {},
   "source": [
    "## Algorithm 1 (features + labels private)"
   ]
  },
  {
   "cell_type": "markdown",
   "id": "fccc2908-e4c7-4593-b893-79716db82cf6",
   "metadata": {},
   "source": [
    "<img src=\"../image/alg1_2019.png\" width=\"400\" height=\"200\">"
   ]
  },
  {
   "cell_type": "code",
   "execution_count": 2,
   "id": "a027431a-d0ac-4299-bf1f-76362e3d25f4",
   "metadata": {},
   "outputs": [],
   "source": [
    "def sample_dataset(n, p, c, k):\n",
    "    x = np.random.randint(-1, 1, (n, p))\n",
    "    noise = np.random.uniform(-c, c, n)\n",
    "    \n",
    "    theta_star = np.random.uniform(-1, 1, p)\n",
    "\n",
    "    # make theta_star k-sparse randomly\n",
    "    index = np.random.choice(range(p), k)\n",
    "    for i in index:\n",
    "        theta_star[i] = 0\n",
    "        \n",
    "    y = x @ theta_star + noise\n",
    "    return x, y, theta_star"
   ]
  },
  {
   "cell_type": "code",
   "execution_count": 3,
   "id": "af2f6ff2-6baa-48a1-be62-000746b8424d",
   "metadata": {},
   "outputs": [],
   "source": [
    "def experiment_setup(n, p):\n",
    "    T = int(np.ceil(np.log2(n / p))) # number of iterations, rounded-up\n",
    "    bucket_size = int(np.floor(n / T))\n",
    "    theta_prev = np.zeros(p) # theta_zero\n",
    "\n",
    "    index_set = [] # splitting into buckets\n",
    "    for t in range(T):\n",
    "        start = t * bucket_size\n",
    "        end = (t + 1) * bucket_size - 1\n",
    "        if t == T - 1:\n",
    "            end = n - 1\n",
    "            \n",
    "        index_set.append((start, end))\n",
    "\n",
    "    return T, theta_prev, index_set"
   ]
  },
  {
   "cell_type": "code",
   "execution_count": 4,
   "id": "be907b80-423b-45dc-a3b2-20d304ba2e07",
   "metadata": {},
   "outputs": [],
   "source": [
    "def randomizer(x):\n",
    "    return x\n",
    "\n",
    "# TODO - implement randomizer"
   ]
  },
  {
   "cell_type": "code",
   "execution_count": 7,
   "id": "7e854fbe-b0bb-4184-bfed-e40a04f1abf8",
   "metadata": {},
   "outputs": [],
   "source": [
    "def run_experiment(n, p, k=3, eta=0.1, c=0.05, verbose=False):\n",
    "    x, y, theta_star = sample_dataset(n, p, c, k)\n",
    "    T, theta_prev, index_set = experiment_setup(n, p)\n",
    "    \n",
    "    for t in range(T):\n",
    "        if verbose:\n",
    "            print(f'\\n============================== iteration {t} ==================================')\n",
    "        \n",
    "        all_gradients = []\n",
    "        for i in range(index_set[t][0], index_set[t][1]):\n",
    "            \n",
    "            # user i computes their gradient locally\n",
    "            # nabla_i = np.(np.transpose(x[i, :]), np.multiply(theta_prev, x[i, :]) - y[i])\n",
    "            nabla_i = x[i].T * (x[i] @ theta_prev - y[i])\n",
    "            \n",
    "            # user i randomizes nabla i\n",
    "            nabla_i = randomizer(nabla_i)\n",
    "    \n",
    "            all_gradients.append(nabla_i)\n",
    "\n",
    "        if verbose:\n",
    "            print(\"\\nStep 1. ALL GRADIENTS\")\n",
    "            print(np.array(all_gradients).shape)\n",
    "    \n",
    "        # the \"server\" computes \n",
    "        # bucket_size = index_set[t][1] - index_set[t][0] + 1\n",
    "        nabla_prev = np.array(all_gradients).sum(axis=0) / len(all_gradients)\n",
    "\n",
    "        if verbose:\n",
    "            print(\"\\nLine 4. Aggregated gradient\")\n",
    "            print(np.array(nabla_prev).shape)\n",
    "    \n",
    "        # perform gradient descend\n",
    "        theta_t = theta_prev - eta * nabla_prev\n",
    "        if verbose:\n",
    "            print(\"\\nLine 5. Descent\")\n",
    "            print(theta_t)\n",
    "    \n",
    "        # truncation - make sparse\n",
    "        # keep the k largest elements => make the smallest p - k elements zero\n",
    "        argmin_k_indices = np.argpartition(theta_t, -(p - k))[:(p - k)] \n",
    "        for j in argmin_k_indices:\n",
    "            theta_t[j] = 0\n",
    "\n",
    "        if verbose:\n",
    "            print(\"\\nLine 6. Sparsity\")   \n",
    "            print(theta_t)\n",
    "\n",
    "        theta_t = theta_t / LA.norm(theta_t, ord=2)\n",
    "        if verbose:\n",
    "            print(\"\\nLine 7. Projection to ball\")   \n",
    "            print(theta_t)\n",
    "        \n",
    "        theta_prev = theta_t\n",
    "\n",
    "    # compute error\n",
    "    e = LA.norm(theta_t - theta_star, ord=2) / LA.norm(theta_star, ord=2)\n",
    "    return e"
   ]
  },
  {
   "cell_type": "code",
   "execution_count": 8,
   "id": "1dbf3fae-a3c1-40cd-bbb3-952bddaf9c90",
   "metadata": {},
   "outputs": [],
   "source": [
    "# DEBUG\n",
    "# run_experiment(100, 10, k=5, eta=0.2)"
   ]
  },
  {
   "cell_type": "markdown",
   "id": "c948f60d-69e7-4c0f-856e-8ae9bb39a33d",
   "metadata": {},
   "source": [
    "## Experiment 1 - varying dimensionality (p) - figure 1a"
   ]
  },
  {
   "cell_type": "code",
   "execution_count": 9,
   "id": "dc5e1250-caca-49a4-baed-7107eac0dfe2",
   "metadata": {},
   "outputs": [],
   "source": [
    "n_values = [1, 1.5, 2, 2.5, 3, 3.5, 4, 4.5, 5]\n",
    "p_values = [16, 64, 128, 256]\n",
    "k = 10\n",
    "results = {}"
   ]
  },
  {
   "cell_type": "code",
   "execution_count": 10,
   "id": "7bce938d-0c3e-4c76-87c8-06015c598a4f",
   "metadata": {},
   "outputs": [
    {
     "name": "stdout",
     "output_type": "stream",
     "text": [
      "1 16 0.23948388207389382\n",
      "1 64 0.8933319693205868\n",
      "1 128 0.9517354602064497\n",
      "1 256 0.9764293428381015\n",
      "1.5 16 0.48360887067220354\n",
      "1.5 64 0.9508047050008784\n",
      "1.5 128 0.9393331505627768\n",
      "1.5 256 0.9720183272485444\n",
      "2 16 0.5206286719541434\n",
      "2 64 0.9135958824659464\n",
      "2 128 0.9483644075113237\n",
      "2 256 0.9844927900719466\n",
      "2.5 16 0.557393625396651\n",
      "2.5 64 0.8965994554516064\n",
      "2.5 128 0.9457162330561962\n",
      "2.5 256 0.9777488900394405\n",
      "3 16 0.5490435385019573\n",
      "3 64 0.9103833610490415\n",
      "3 128 0.9758078323775807\n",
      "3 256 0.9743416040543452\n",
      "3.5 16 0.6072911835258732\n",
      "3.5 64 0.8783015914500498\n",
      "3.5 128 0.9576793160813915\n",
      "3.5 256 0.9716075166517835\n",
      "4 16 0.483975200908379\n",
      "4 64 0.8757920478611182\n",
      "4 128 0.9415477000806806\n",
      "4 256 0.977345843112099\n",
      "4.5 16 0.4879956819842366\n",
      "4.5 64 0.901270858926927\n",
      "4.5 128 0.9548480830362591\n",
      "4.5 256 0.9829983245239683\n",
      "5 16 0.6163342249100714\n",
      "5 64 0.8901546571100499\n",
      "5 128 0.9549154303778672\n",
      "5 256 0.975712810643424\n"
     ]
    }
   ],
   "source": [
    "for n in n_values:\n",
    "    for p in p_values:\n",
    "        min_error = 1.0\n",
    "        for i in range(10):\n",
    "            e = run_experiment(int(n * (10 ** 5)), p, k, eta=0.1, c=0.05, verbose=False)\n",
    "            if e < min_error:\n",
    "                min_error = e\n",
    "            \n",
    "        if not p in results:\n",
    "            results[p] = []\n",
    "        results[p].append(min_error)\n",
    "        print(n, p, min_error)"
   ]
  },
  {
   "cell_type": "code",
   "execution_count": 11,
   "id": "d10d4bfb-d15b-45a1-8e4f-900fa2e0e105",
   "metadata": {},
   "outputs": [
    {
     "data": {
      "image/png": "[encoded data removed]",
      "text/plain": [
       "<Figure size 640x480 with 1 Axes>"
      ]
     },
     "metadata": {},
     "output_type": "display_data"
    }
   ],
   "source": [
    "colors = [\"darkviolet\", \"gold\", \"dodgerblue\", \"firebrick\"]\n",
    "for i in range(len(p_values)):\n",
    "    p = p_values[i]\n",
    "    plt.plot(n_values, results[p], label=f'p={p}', color=colors[i])\n",
    "\n",
    "plt.legend(loc=1)\n",
    "plt.show()"
   ]
  },
  {
   "cell_type": "markdown",
   "id": "d9d28d95-cfd5-41ea-b67f-2da91ab2f843",
   "metadata": {},
   "source": [
    "## Experiment 2 - varying sparsity level (k) - figure 1b"
   ]
  },
  {
   "cell_type": "code",
   "execution_count": null,
   "id": "40ae2a9f-4263-4e37-9968-d30cd14a0da1",
   "metadata": {},
   "outputs": [],
   "source": [
    "n_values = [1, 1.5, 2, 2.5, 3, 3.5, 4, 4.5, 5]\n",
    "k_values = [10, 20, 40, 100]\n",
    "p = 64\n",
    "results = {}"
   ]
  },
  {
   "cell_type": "code",
   "execution_count": null,
   "id": "1f3181d5-5b08-496c-a798-a0bd514078b0",
   "metadata": {},
   "outputs": [],
   "source": [
    "for n in n_values:\n",
    "    for k in k_values:\n",
    "        min_error = 1.0\n",
    "        for i in range(10):\n",
    "            e = run_experiment(int(n * (10 ** 5)), p, k, eta=0.1, c=0.05, verbose=False)\n",
    "            if e < min_error:\n",
    "                min_error = e\n",
    "            \n",
    "        if not k in results:\n",
    "            results[k] = []\n",
    "        results[k].append(min_error)\n",
    "        print(n, k, min_error)"
   ]
  },
  {
   "cell_type": "code",
   "execution_count": null,
   "id": "229aac9a-390b-49fc-a143-9519bf104aed",
   "metadata": {},
   "outputs": [],
   "source": [
    "colors = [\"darkviolet\", \"gold\", \"dodgerblue\", \"firebrick\"]\n",
    "for i in range(len(k_values)):\n",
    "    k = k_values[i]\n",
    "    plt.plot(n_values, results[k], label=f's={k}', color=colors[i])\n",
    "\n",
    "plt.legend(loc=1)\n",
    "plt.show()"
   ]
  },
  {
   "cell_type": "code",
   "execution_count": null,
   "id": "4e8d971c-f528-427a-9112-0489ce2d83b5",
   "metadata": {},
   "outputs": [],
   "source": []
  }
 ],
 "metadata": {
  "kernelspec": {
   "display_name": "Python 3 (ipykernel)",
   "language": "python",
   "name": "python3"
  },
  "language_info": {
   "codemirror_mode": {
    "name": "ipython",
    "version": 3
   },
   "file_extension": ".py",
   "mimetype": "text/x-python",
   "name": "python",
   "nbconvert_exporter": "python",
   "pygments_lexer": "ipython3",
   "version": "3.8.8"
  }
 },
 "nbformat": 4,
 "nbformat_minor": 5
}
