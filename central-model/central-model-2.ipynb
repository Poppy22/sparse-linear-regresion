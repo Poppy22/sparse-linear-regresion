{
 "cells": [
  {
   "cell_type": "code",
   "execution_count": 1,
   "id": "f665413b-98ef-4d47-a5e0-d7a44d64801d",
   "metadata": {},
   "outputs": [],
   "source": [
    "import numpy as np\n",
    "from numpy import linalg as LA\n",
    "import matplotlib.pyplot as plt"
   ]
  },
  {
   "cell_type": "markdown",
   "id": "5792cc4d-4d79-4229-91c0-461a5d73e9d4",
   "metadata": {},
   "source": [
    "## Algorithm 1 (features + labels private)"
   ]
  },
  {
   "cell_type": "markdown",
   "id": "fccc2908-e4c7-4593-b893-79716db82cf6",
   "metadata": {},
   "source": [
    "<img src=\"../image/alg1_2019.png\" width=\"400\" height=\"200\">"
   ]
  },
  {
   "cell_type": "code",
   "execution_count": 2,
   "id": "a027431a-d0ac-4299-bf1f-76362e3d25f4",
   "metadata": {},
   "outputs": [],
   "source": [
    "def sample_dataset(n, p, c, k):\n",
    "    x = np.random.randint(-1, 1, (n, p))\n",
    "    noise = np.random.uniform(-c, c, n)\n",
    "    \n",
    "    theta_star = np.random.uniform(-1, 1, p)\n",
    "\n",
    "    # make theta_star k-sparse randomly\n",
    "    index = np.random.choice(range(p), k)\n",
    "    for i in index:\n",
    "        theta_star[i] = 0\n",
    "        \n",
    "    y = x @ theta_star + noise\n",
    "    return x, y, theta_star"
   ]
  },
  {
   "cell_type": "code",
   "execution_count": 3,
   "id": "af2f6ff2-6baa-48a1-be62-000746b8424d",
   "metadata": {},
   "outputs": [],
   "source": [
    "def experiment_setup(n, p):\n",
    "    T = int(np.ceil(np.log2(n / p))) # number of iterations, rounded-up\n",
    "    bucket_size = int(np.floor(n / T))\n",
    "    theta_prev = np.zeros(p) # theta_zero\n",
    "\n",
    "    index_set = [] # splitting into buckets\n",
    "    for t in range(T):\n",
    "        start = t * bucket_size\n",
    "        end = (t + 1) * bucket_size - 1\n",
    "        if t == T - 1:\n",
    "            end = n - 1\n",
    "            \n",
    "        index_set.append((start, end))\n",
    "\n",
    "    return T, theta_prev, index_set"
   ]
  },
  {
   "cell_type": "code",
   "execution_count": 4,
   "id": "be907b80-423b-45dc-a3b2-20d304ba2e07",
   "metadata": {},
   "outputs": [],
   "source": [
    "def randomizer(x):\n",
    "    return x\n",
    "\n",
    "# TODO - implement randomizer"
   ]
  },
  {
   "cell_type": "code",
   "execution_count": 5,
   "id": "c5a00b4a-18f8-4258-9e8a-be5f7b98f23d",
   "metadata": {},
   "outputs": [],
   "source": [
    "# params: v - vector, k - sparsity\n",
    "# returns an updates vector v which is k-sparse\n",
    "\n",
    "def truncation(v, k):\n",
    "    p = len(v)\n",
    "    argmin_k_indices = np.argpartition(v, -(p - k))[:(p - k)]\n",
    "    \n",
    "    for j in argmin_k_indices:\n",
    "            v[j] = 0\n",
    "\n",
    "    return v"
   ]
  },
  {
   "cell_type": "code",
   "execution_count": 6,
   "id": "fe818284-d899-4ed5-823e-5096d4bcf602",
   "metadata": {},
   "outputs": [
    {
     "data": {
      "text/plain": [
       "[100, 0, 0, 0, 0, 6, 7]"
      ]
     },
     "execution_count": 6,
     "metadata": {},
     "output_type": "execute_result"
    }
   ],
   "source": [
    "truncation([100, 2, 3, 4, 5, 6, 7], 3)"
   ]
  },
  {
   "cell_type": "code",
   "execution_count": 11,
   "id": "7e854fbe-b0bb-4184-bfed-e40a04f1abf8",
   "metadata": {},
   "outputs": [],
   "source": [
    "def run_experiment(n, p, k=3, eta=0.1, c=0.05, verbose=False):\n",
    "    x, y, theta_star = sample_dataset(n, p, c, k)\n",
    "    T, theta_prev, index_set = experiment_setup(n, p)\n",
    "    \n",
    "    for t in range(T):\n",
    "        if verbose:\n",
    "            print(f'\\n============================== iteration {t} ==================================')\n",
    "        \n",
    "        all_gradients = []\n",
    "\n",
    "        # Line 3: users computes their gradient locally and adds noise (randomizer)\n",
    "        for i in range(index_set[t][0], index_set[t][1]):\n",
    "            nabla_i = x[i].T * (theta_prev @ x[i] - y[i])\n",
    "            nabla_i = randomizer(nabla_i) # currently, identity function\n",
    "            all_gradients.append(nabla_i)\n",
    "\n",
    "        if verbose:\n",
    "            print(\"\\nAll gradients input\")\n",
    "            print(np.array(all_gradients).shape)\n",
    "    \n",
    "        # Line 4: aggregate gradients\n",
    "        nabla_prev = np.array(all_gradients).sum(axis=0) / len(all_gradients)\n",
    "        if verbose:\n",
    "            print(\"\\nLine 4. Aggregated gradient\")\n",
    "            print(np.array(nabla_prev).shape)\n",
    "    \n",
    "        # Line 5: perform gradient descend\n",
    "        theta_t = theta_prev - eta * nabla_prev\n",
    "        if verbose:\n",
    "            print(\"\\nLine 5. Gradient descent\")\n",
    "            print(theta_t)\n",
    "    \n",
    "        # Line 6: truncation - make k-sparse\n",
    "        theta_t = truncation(theta_t, k)\n",
    "        if verbose:\n",
    "            print(\"\\nLine 6. Make sparse\")   \n",
    "            print(theta_t)\n",
    "\n",
    "        # Line 7: l2 ball projection\n",
    "        theta_t = theta_t / LA.norm(theta_t, ord=2)\n",
    "        theta_t = np.square(theta_t)\n",
    "        if verbose:\n",
    "            print(\"\\nLine 7. L2 projection to ball\")   \n",
    "            print(theta_t)\n",
    "\n",
    "        # update for next iteration\n",
    "        theta_prev = theta_t\n",
    "\n",
    "\n",
    "    # compute error\n",
    "    e = LA.norm(theta_t - theta_star, ord=2) / LA.norm(theta_star, ord=2)\n",
    "    return e"
   ]
  },
  {
   "cell_type": "code",
   "execution_count": 8,
   "id": "1dbf3fae-a3c1-40cd-bbb3-952bddaf9c90",
   "metadata": {},
   "outputs": [],
   "source": [
    "# DEBUG\n",
    "# run_experiment(100, 10, k=5, eta=0.2)"
   ]
  },
  {
   "cell_type": "markdown",
   "id": "c948f60d-69e7-4c0f-856e-8ae9bb39a33d",
   "metadata": {},
   "source": [
    "## Experiment 1 - varying dimensionality (p) - figure 1a"
   ]
  },
  {
   "cell_type": "code",
   "execution_count": 9,
   "id": "dc5e1250-caca-49a4-baed-7107eac0dfe2",
   "metadata": {},
   "outputs": [],
   "source": [
    "n_values = [1, 1.5, 2, 2.5, 3, 3.5, 4, 4.5, 5]\n",
    "p_values = [16, 64, 128, 256]\n",
    "k = 10\n",
    "results = {}"
   ]
  },
  {
   "cell_type": "code",
   "execution_count": 10,
   "id": "7bce938d-0c3e-4c76-87c8-06015c598a4f",
   "metadata": {},
   "outputs": [
    {
     "name": "stdout",
     "output_type": "stream",
     "text": [
      "1 16 0.8299395465564667\n",
      "1 64 0.9663110179296115\n",
      "1 128 0.9783179487836767\n",
      "1 256 0.9911289639438031\n",
      "1.5 16 0.8689873372903322\n",
      "1.5 64 0.9539867977816346\n",
      "1.5 128 0.9857096875815595\n",
      "1.5 256 0.9910266522786236\n",
      "2 16 0.8285564866172274\n",
      "2 64 0.970397202459618\n",
      "2 128 0.9865663898680704\n",
      "2 256 0.9915556085027174\n",
      "2.5 16 0.8489872692864472\n",
      "2.5 64 0.9568120542211054\n",
      "2.5 128 0.9824979385701075\n",
      "2.5 256 0.9930834063481554\n",
      "3 16 0.7827557033069639\n",
      "3 64 0.969150646303305\n",
      "3 128 0.9749989801443923\n",
      "3 256 0.9926915465836299\n",
      "3.5 16 0.7875649776934911\n",
      "3.5 64 0.9563065941462323\n",
      "3.5 128 0.9813475516687437\n",
      "3.5 256 0.992301039621222\n",
      "4 16 0.552764202167096\n",
      "4 64 0.9545185363798186\n",
      "4 128 0.9793290378024763\n",
      "4 256 0.9918387204642567\n",
      "4.5 16 0.6365777553025005\n",
      "4.5 64 0.9726662541733948\n",
      "4.5 128 0.9852896810478582\n",
      "4.5 256 0.9939590290267708\n",
      "5 16 0.7812113828826436\n",
      "5 64 0.9627865101655337\n",
      "5 128 0.9861329039141462\n",
      "5 256 0.9909448487418201\n"
     ]
    }
   ],
   "source": [
    "for n in n_values:\n",
    "    for p in p_values:\n",
    "        min_error = 1.0\n",
    "        for i in range(10):\n",
    "            e = run_experiment(int(n * (10 ** 5)), p, k, eta=0.1, c=0.05, verbose=False)\n",
    "            if e < min_error:\n",
    "                min_error = e\n",
    "            \n",
    "        if not p in results:\n",
    "            results[p] = []\n",
    "        results[p].append(min_error)\n",
    "        print(n, p, min_error)"
   ]
  },
  {
   "cell_type": "code",
   "execution_count": 12,
   "id": "d10d4bfb-d15b-45a1-8e4f-900fa2e0e105",
   "metadata": {},
   "outputs": [
    {
     "data": {
      "image/png": "[encoded data removed]",
      "text/plain": [
       "<Figure size 640x480 with 1 Axes>"
      ]
     },
     "metadata": {},
     "output_type": "display_data"
    }
   ],
   "source": [
    "colors = [\"darkviolet\", \"gold\", \"dodgerblue\", \"firebrick\"]\n",
    "for i in range(len(p_values)):\n",
    "    p = p_values[i]\n",
    "    plt.plot(n_values, results[p], label=f'p={p}', color=colors[i])\n",
    "\n",
    "plt.legend(loc=1)\n",
    "plt.show()"
   ]
  },
  {
   "cell_type": "markdown",
   "id": "d9d28d95-cfd5-41ea-b67f-2da91ab2f843",
   "metadata": {},
   "source": [
    "## Experiment 2 - varying sparsity level (k) - figure 1b"
   ]
  },
  {
   "cell_type": "code",
   "execution_count": 12,
   "id": "40ae2a9f-4263-4e37-9968-d30cd14a0da1",
   "metadata": {},
   "outputs": [],
   "source": [
    "n_values = [1, 1.5, 2, 2.5, 3, 3.5, 4, 4.5, 5]\n",
    "k_values = [10, 20, 40, 100]\n",
    "p = 64\n",
    "results = {}"
   ]
  },
  {
   "cell_type": "code",
   "execution_count": 13,
   "id": "1f3181d5-5b08-496c-a798-a0bd514078b0",
   "metadata": {},
   "outputs": [
    {
     "name": "stdout",
     "output_type": "stream",
     "text": [
      "1 10 0.9041423312121006\n",
      "1 20 0.8102035079616242\n",
      "1 40 0.7495957723386745\n",
      "1 100 0.492809439865959\n",
      "1.5 10 0.9034891897938213\n",
      "1.5 20 0.8271356184487463\n",
      "1.5 40 0.7800402336306147\n",
      "1.5 100 0.6986156776177936\n",
      "2 10 0.9049426922706604\n",
      "2 20 0.8593549228138108\n",
      "2 40 0.7655603416396741\n",
      "2 100 0.7430632377756549\n",
      "2.5 10 0.8822003333123669\n",
      "2.5 20 0.816872877833206\n",
      "2.5 40 0.7879378369911242\n",
      "2.5 100 0.6474729571403989\n",
      "3 10 0.8969654952384152\n",
      "3 20 0.8719883757056505\n",
      "3 40 0.7510587162370568\n",
      "3 100 0.5092696733033895\n",
      "3.5 10 0.8968608348989012\n",
      "3.5 20 0.9106164435480829\n",
      "3.5 40 0.7397010827186222\n",
      "3.5 100 0.5383232544022649\n",
      "4 10 0.8524211047478105\n",
      "4 20 0.8729328515365034\n",
      "4 40 0.7546425670036855\n",
      "4 100 0.5766451902610202\n",
      "4.5 10 0.9030052015667105\n",
      "4.5 20 0.8692755700446286\n",
      "4.5 40 0.7520926746495112\n",
      "4.5 100 0.6389971110519704\n"
     ]
    },
    {
     "ename": "KeyboardInterrupt",
     "evalue": "",
     "output_type": "error",
     "traceback": [
      "\u001b[0;31m---------------------------------------------------------------------------\u001b[0m",
      "\u001b[0;31mKeyboardInterrupt\u001b[0m                         Traceback (most recent call last)",
      "Cell \u001b[0;32mIn[13], line 5\u001b[0m\n\u001b[1;32m      3\u001b[0m min_error \u001b[38;5;241m=\u001b[39m \u001b[38;5;241m1.0\u001b[39m\n\u001b[1;32m      4\u001b[0m \u001b[38;5;28;01mfor\u001b[39;00m i \u001b[38;5;129;01min\u001b[39;00m \u001b[38;5;28mrange\u001b[39m(\u001b[38;5;241m10\u001b[39m):\n\u001b[0;32m----> 5\u001b[0m     e \u001b[38;5;241m=\u001b[39m \u001b[43mrun_experiment\u001b[49m\u001b[43m(\u001b[49m\u001b[38;5;28;43mint\u001b[39;49m\u001b[43m(\u001b[49m\u001b[43mn\u001b[49m\u001b[43m \u001b[49m\u001b[38;5;241;43m*\u001b[39;49m\u001b[43m \u001b[49m\u001b[43m(\u001b[49m\u001b[38;5;241;43m10\u001b[39;49m\u001b[43m \u001b[49m\u001b[38;5;241;43m*\u001b[39;49m\u001b[38;5;241;43m*\u001b[39;49m\u001b[43m \u001b[49m\u001b[38;5;241;43m5\u001b[39;49m\u001b[43m)\u001b[49m\u001b[43m)\u001b[49m\u001b[43m,\u001b[49m\u001b[43m \u001b[49m\u001b[43mp\u001b[49m\u001b[43m,\u001b[49m\u001b[43m \u001b[49m\u001b[43mk\u001b[49m\u001b[43m,\u001b[49m\u001b[43m \u001b[49m\u001b[43meta\u001b[49m\u001b[38;5;241;43m=\u001b[39;49m\u001b[38;5;241;43m0.1\u001b[39;49m\u001b[43m,\u001b[49m\u001b[43m \u001b[49m\u001b[43mc\u001b[49m\u001b[38;5;241;43m=\u001b[39;49m\u001b[38;5;241;43m0.05\u001b[39;49m\u001b[43m,\u001b[49m\u001b[43m \u001b[49m\u001b[43mverbose\u001b[49m\u001b[38;5;241;43m=\u001b[39;49m\u001b[38;5;28;43;01mFalse\u001b[39;49;00m\u001b[43m)\u001b[49m\n\u001b[1;32m      6\u001b[0m     \u001b[38;5;28;01mif\u001b[39;00m e \u001b[38;5;241m<\u001b[39m min_error:\n\u001b[1;32m      7\u001b[0m         min_error \u001b[38;5;241m=\u001b[39m e\n",
      "Cell \u001b[0;32mIn[7], line 13\u001b[0m, in \u001b[0;36mrun_experiment\u001b[0;34m(n, p, k, eta, c, verbose)\u001b[0m\n\u001b[1;32m     11\u001b[0m \u001b[38;5;66;03m# Line 3: users computes their gradient locally and adds noise (randomizer)\u001b[39;00m\n\u001b[1;32m     12\u001b[0m \u001b[38;5;28;01mfor\u001b[39;00m i \u001b[38;5;129;01min\u001b[39;00m \u001b[38;5;28mrange\u001b[39m(index_set[t][\u001b[38;5;241m0\u001b[39m], index_set[t][\u001b[38;5;241m1\u001b[39m]):\n\u001b[0;32m---> 13\u001b[0m     nabla_i \u001b[38;5;241m=\u001b[39m \u001b[43mx\u001b[49m\u001b[43m[\u001b[49m\u001b[43mi\u001b[49m\u001b[43m]\u001b[49m\u001b[38;5;241;43m.\u001b[39;49m\u001b[43mT\u001b[49m\u001b[43m \u001b[49m\u001b[38;5;241;43m*\u001b[39;49m\u001b[43m \u001b[49m\u001b[43m(\u001b[49m\u001b[43mtheta_prev\u001b[49m\u001b[43m \u001b[49m\u001b[38;5;241;43m@\u001b[39;49m\u001b[43m \u001b[49m\u001b[43mx\u001b[49m\u001b[43m[\u001b[49m\u001b[43mi\u001b[49m\u001b[43m]\u001b[49m\u001b[43m \u001b[49m\u001b[38;5;241;43m-\u001b[39;49m\u001b[43m \u001b[49m\u001b[43my\u001b[49m\u001b[43m[\u001b[49m\u001b[43mi\u001b[49m\u001b[43m]\u001b[49m\u001b[43m)\u001b[49m\n\u001b[1;32m     14\u001b[0m     nabla_i \u001b[38;5;241m=\u001b[39m randomizer(nabla_i) \u001b[38;5;66;03m# currently, identity function\u001b[39;00m\n\u001b[1;32m     15\u001b[0m     all_gradients\u001b[38;5;241m.\u001b[39mappend(nabla_i)\n",
      "\u001b[0;31mKeyboardInterrupt\u001b[0m: "
     ]
    }
   ],
   "source": [
    "for n in n_values:\n",
    "    for k in k_values:\n",
    "        min_error = 1.0\n",
    "        for i in range(10):\n",
    "            e = run_experiment(int(n * (10 ** 5)), p, k, eta=0.1, c=0.05, verbose=False)\n",
    "            if e < min_error:\n",
    "                min_error = e\n",
    "            \n",
    "        if not k in results:\n",
    "            results[k] = []\n",
    "        results[k].append(min_error)\n",
    "        print(n, k, min_error)"
   ]
  },
  {
   "cell_type": "code",
   "execution_count": null,
   "id": "229aac9a-390b-49fc-a143-9519bf104aed",
   "metadata": {},
   "outputs": [],
   "source": [
    "colors = [\"darkviolet\", \"gold\", \"dodgerblue\", \"firebrick\"]\n",
    "for i in range(len(k_values)):\n",
    "    k = k_values[i]\n",
    "    plt.plot(n_values, results[k], label=f's={k}', color=colors[i])\n",
    "\n",
    "plt.legend(loc=1)\n",
    "plt.show()"
   ]
  },
  {
   "cell_type": "code",
   "execution_count": null,
   "id": "4e8d971c-f528-427a-9112-0489ce2d83b5",
   "metadata": {},
   "outputs": [],
   "source": []
  }
 ],
 "metadata": {
  "kernelspec": {
   "display_name": "Python 3 (ipykernel)",
   "language": "python",
   "name": "python3"
  },
  "language_info": {
   "codemirror_mode": {
    "name": "ipython",
    "version": 3
   },
   "file_extension": ".py",
   "mimetype": "text/x-python",
   "name": "python",
   "nbconvert_exporter": "python",
   "pygments_lexer": "ipython3",
   "version": "3.8.8"
  }
 },
 "nbformat": 4,
 "nbformat_minor": 5
}
